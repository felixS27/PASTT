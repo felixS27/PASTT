{
 "cells": [
  {
   "cell_type": "code",
   "execution_count": 1,
   "id": "acd9a7dc",
   "metadata": {},
   "outputs": [
    {
     "name": "stderr",
     "output_type": "stream",
     "text": [
      "WARNING: QWindowsWindow::setGeometry: Unable to set geometry 1086x684-859+180 (frame: 1102x723-867+149) on QWidgetWindow/\"_QtMainWindowClassWindow\" on \"\\\\.\\DISPLAY2\". Resulting geometry: 867x573-860+173 (frame: 883x612-868+142) margins: 8, 31, 8, 8 minimum size: 374x573 MINMAXINFO maxSize=0,0 maxpos=0,0 mintrack=390,612 maxtrack=0,0)\n"
     ]
    }
   ],
   "source": [
    "#load libraries\n",
    "from aicsimageio import AICSImage #handles czi data\n",
    "import numpy as np\n",
    "from napari.viewer import Viewer\n",
    "import skimage.filters as skif\n",
    "import skimage.morphology as skimo\n",
    "import scipy.ndimage as nd\n",
    "import skimage.measure as skime\n",
    "# import pandas as pd\n",
    "#create instance of napari viewer\n",
    "viewer = Viewer()"
   ]
  },
  {
   "cell_type": "code",
   "execution_count": 2,
   "id": "265c9905",
   "metadata": {},
   "outputs": [
    {
     "name": "stdout",
     "output_type": "stream",
     "text": [
      "<Dimensions [T: 100, C: 1, Z: 1, Y: 2048, X: 2048]>\n",
      "(100, 1, 1, 2048, 2048)\n"
     ]
    }
   ],
   "source": [
    "#read in one image stack\n",
    "img_movie = AICSImage(\"C:/Users/mrfel/Desktop/Python_random/Movie2.czi\")\n",
    "print(img_movie.dims)\n",
    "print(img_movie.shape)\n",
    "#reduce dimensionality of the image to only T, Y and X\n",
    "img_movie = img_movie.get_image_data(\"TYX\")"
   ]
  },
  {
   "cell_type": "code",
   "execution_count": 3,
   "id": "f294aafa",
   "metadata": {},
   "outputs": [],
   "source": [
    "#create the mean projection of the movie\n",
    "img_mean = np.mean(img_movie.data, axis = 0)"
   ]
  },
  {
   "cell_type": "code",
   "execution_count": 4,
   "id": "9bf96dfa",
   "metadata": {},
   "outputs": [],
   "source": [
    "#subtract mean projection of the movie\n",
    "movie_mean = img_movie.data - img_mean"
   ]
  },
  {
   "cell_type": "code",
   "execution_count": 5,
   "id": "968d50f1",
   "metadata": {},
   "outputs": [],
   "source": [
    "#create min projection of the previous processed movie\n",
    "img_mean_min = np.min(movie_mean, axis = 0)"
   ]
  },
  {
   "cell_type": "code",
   "execution_count": 6,
   "id": "476bd127",
   "metadata": {},
   "outputs": [
    {
     "name": "stdout",
     "output_type": "stream",
     "text": [
      "-62.715273437499945\n"
     ]
    }
   ],
   "source": [
    "#calculate the threshold of the min projeciton with otsu\n",
    "threshold = skif.threshold_otsu(img_mean_min)\n",
    "print(threshold)"
   ]
  },
  {
   "cell_type": "code",
   "execution_count": 7,
   "id": "1baa98bc",
   "metadata": {},
   "outputs": [],
   "source": [
    "#create binary movie with threshold\n",
    "movie_binary = movie_mean < (threshold)"
   ]
  },
  {
   "cell_type": "code",
   "execution_count": 8,
   "id": "6f4fca2b",
   "metadata": {},
   "outputs": [],
   "source": [
    "# define function for further binary process the image\n",
    "def morph(image, morph_disk_size):\n",
    "    img = nd.binary_dilation(image,structure=skimo.disk(morph_disk_size), iterations = 3)\n",
    "    img = nd.binary_erosion(img,structure=skimo.disk(morph_disk_size), iterations = 3)\n",
    "    img = skimo.binary_dilation(img,footprint=skimo.disk(morph_disk_size))\n",
    "    return img"
   ]
  },
  {
   "cell_type": "code",
   "execution_count": 9,
   "id": "a599fcda",
   "metadata": {
    "collapsed": true
   },
   "outputs": [
    {
     "name": "stdout",
     "output_type": "stream",
     "text": [
      "0 iteration step done\n",
      "1 iteration step done\n",
      "2 iteration step done\n",
      "3 iteration step done\n",
      "4 iteration step done\n",
      "5 iteration step done\n",
      "6 iteration step done\n",
      "7 iteration step done\n",
      "8 iteration step done\n",
      "9 iteration step done\n",
      "10 iteration step done\n",
      "11 iteration step done\n",
      "12 iteration step done\n",
      "13 iteration step done\n",
      "14 iteration step done\n",
      "15 iteration step done\n",
      "16 iteration step done\n",
      "17 iteration step done\n",
      "18 iteration step done\n",
      "19 iteration step done\n",
      "20 iteration step done\n",
      "21 iteration step done\n",
      "22 iteration step done\n",
      "23 iteration step done\n",
      "24 iteration step done\n",
      "25 iteration step done\n",
      "26 iteration step done\n",
      "27 iteration step done\n",
      "28 iteration step done\n",
      "29 iteration step done\n",
      "30 iteration step done\n",
      "31 iteration step done\n",
      "32 iteration step done\n",
      "33 iteration step done\n",
      "34 iteration step done\n",
      "35 iteration step done\n",
      "36 iteration step done\n",
      "37 iteration step done\n",
      "38 iteration step done\n",
      "39 iteration step done\n",
      "40 iteration step done\n",
      "41 iteration step done\n",
      "42 iteration step done\n",
      "43 iteration step done\n",
      "44 iteration step done\n",
      "45 iteration step done\n",
      "46 iteration step done\n",
      "47 iteration step done\n",
      "48 iteration step done\n",
      "49 iteration step done\n",
      "50 iteration step done\n",
      "51 iteration step done\n",
      "52 iteration step done\n",
      "53 iteration step done\n",
      "54 iteration step done\n",
      "55 iteration step done\n",
      "56 iteration step done\n",
      "57 iteration step done\n",
      "58 iteration step done\n",
      "59 iteration step done\n",
      "60 iteration step done\n",
      "61 iteration step done\n",
      "62 iteration step done\n",
      "63 iteration step done\n",
      "64 iteration step done\n",
      "65 iteration step done\n",
      "66 iteration step done\n",
      "67 iteration step done\n",
      "68 iteration step done\n",
      "69 iteration step done\n",
      "70 iteration step done\n",
      "71 iteration step done\n",
      "72 iteration step done\n",
      "73 iteration step done\n",
      "74 iteration step done\n",
      "75 iteration step done\n",
      "76 iteration step done\n",
      "77 iteration step done\n",
      "78 iteration step done\n",
      "79 iteration step done\n",
      "80 iteration step done\n",
      "81 iteration step done\n",
      "82 iteration step done\n",
      "83 iteration step done\n",
      "84 iteration step done\n",
      "85 iteration step done\n",
      "86 iteration step done\n",
      "87 iteration step done\n",
      "88 iteration step done\n",
      "89 iteration step done\n",
      "90 iteration step done\n",
      "91 iteration step done\n",
      "92 iteration step done\n",
      "93 iteration step done\n",
      "94 iteration step done\n",
      "95 iteration step done\n",
      "96 iteration step done\n",
      "97 iteration step done\n",
      "98 iteration step done\n",
      "99 iteration step done\n"
     ]
    }
   ],
   "source": [
    "# further process binary image mask\n",
    "binary_proc = np.zeros(movie_binary.shape, dtype=bool)\n",
    "for i in range(0,movie_binary.shape[0]):\n",
    "    binary_proc[i,:,:] = morph(movie_binary[i,:,:],1)\n",
    "    print(str(i)+\" iteration step done\")"
   ]
  },
  {
   "cell_type": "code",
   "execution_count": 10,
   "id": "61bc9eb3",
   "metadata": {},
   "outputs": [],
   "source": [
    "# label each individual movie slice\n",
    "label_img = np.zeros(binary_proc.shape)\n",
    "for i in range(0,binary_proc.shape[0]):\n",
    "    label_img[i,:,:] = skimo.label(binary_proc[i,:,:], connectivity=1)\n",
    "label_img = label_img.astype(\"int64\")"
   ]
  },
  {
   "cell_type": "code",
   "execution_count": 11,
   "id": "0e008bf9",
   "metadata": {},
   "outputs": [
    {
     "data": {
      "text/plain": [
       "<Labels layer 'sporo label' at 0x243702eb9d0>"
      ]
     },
     "execution_count": 11,
     "metadata": {},
     "output_type": "execute_result"
    }
   ],
   "source": [
    "#add movie and label to napari viewer\n",
    "viewer.add_image(img_movie, name = 'original movie')\n",
    "viewer.add_labels(label_img, name = 'sporo label')"
   ]
  },
  {
   "cell_type": "code",
   "execution_count": 12,
   "id": "44008678",
   "metadata": {},
   "outputs": [
    {
     "name": "stdout",
     "output_type": "stream",
     "text": [
      "<Dimensions [T: 100, C: 1, Z: 1, Y: 2048, X: 2048]>\n",
      "(100, 1, 1, 2048, 2048)\n",
      "-58.66298828125002\n",
      "0 iteration step done\n",
      "1 iteration step done\n",
      "2 iteration step done\n",
      "3 iteration step done\n",
      "4 iteration step done\n",
      "5 iteration step done\n",
      "6 iteration step done\n",
      "7 iteration step done\n",
      "8 iteration step done\n",
      "9 iteration step done\n",
      "10 iteration step done\n",
      "11 iteration step done\n",
      "12 iteration step done\n",
      "13 iteration step done\n",
      "14 iteration step done\n",
      "15 iteration step done\n",
      "16 iteration step done\n",
      "17 iteration step done\n",
      "18 iteration step done\n",
      "19 iteration step done\n",
      "20 iteration step done\n",
      "21 iteration step done\n",
      "22 iteration step done\n",
      "23 iteration step done\n",
      "24 iteration step done\n",
      "25 iteration step done\n",
      "26 iteration step done\n",
      "27 iteration step done\n",
      "28 iteration step done\n",
      "29 iteration step done\n",
      "30 iteration step done\n",
      "31 iteration step done\n",
      "32 iteration step done\n",
      "33 iteration step done\n",
      "34 iteration step done\n",
      "35 iteration step done\n",
      "36 iteration step done\n",
      "37 iteration step done\n",
      "38 iteration step done\n",
      "39 iteration step done\n",
      "40 iteration step done\n",
      "41 iteration step done\n",
      "42 iteration step done\n",
      "43 iteration step done\n",
      "44 iteration step done\n",
      "45 iteration step done\n",
      "46 iteration step done\n",
      "47 iteration step done\n",
      "48 iteration step done\n",
      "49 iteration step done\n",
      "50 iteration step done\n",
      "51 iteration step done\n",
      "52 iteration step done\n",
      "53 iteration step done\n",
      "54 iteration step done\n",
      "55 iteration step done\n",
      "56 iteration step done\n",
      "57 iteration step done\n",
      "58 iteration step done\n",
      "59 iteration step done\n",
      "60 iteration step done\n",
      "61 iteration step done\n",
      "62 iteration step done\n",
      "63 iteration step done\n",
      "64 iteration step done\n",
      "65 iteration step done\n",
      "66 iteration step done\n",
      "67 iteration step done\n",
      "68 iteration step done\n",
      "69 iteration step done\n",
      "70 iteration step done\n",
      "71 iteration step done\n",
      "72 iteration step done\n",
      "73 iteration step done\n",
      "74 iteration step done\n",
      "75 iteration step done\n",
      "76 iteration step done\n",
      "77 iteration step done\n",
      "78 iteration step done\n",
      "79 iteration step done\n",
      "80 iteration step done\n",
      "81 iteration step done\n",
      "82 iteration step done\n",
      "83 iteration step done\n",
      "84 iteration step done\n",
      "85 iteration step done\n",
      "86 iteration step done\n",
      "87 iteration step done\n",
      "88 iteration step done\n",
      "89 iteration step done\n",
      "90 iteration step done\n",
      "91 iteration step done\n",
      "92 iteration step done\n",
      "93 iteration step done\n",
      "94 iteration step done\n",
      "95 iteration step done\n",
      "96 iteration step done\n",
      "97 iteration step done\n",
      "98 iteration step done\n",
      "99 iteration step done\n"
     ]
    },
    {
     "data": {
      "text/plain": [
       "<Labels layer 'sporo label' at 0x2437795bca0>"
      ]
     },
     "execution_count": 12,
     "metadata": {},
     "output_type": "execute_result"
    }
   ],
   "source": [
    "#read in one image stack\n",
    "img_movie = AICSImage(\"C:/Users/mrfel/Desktop/Python_random/Movie1.czi\")\n",
    "print(img_movie.dims)\n",
    "print(img_movie.shape)\n",
    "#reduce dimensionality of the image to only T, Y and X\n",
    "img_movie = img_movie.get_image_data(\"TYX\")\n",
    "#create the mean projection of the movie\n",
    "img_mean = np.mean(img_movie.data, axis = 0)\n",
    "#subtract mean projection of the movie\n",
    "movie_mean = img_movie.data - img_mean\n",
    "#create min projection of the previous processed movie\n",
    "img_mean_min = np.min(movie_mean, axis = 0)\n",
    "#calculate the threshold of the min projeciton with otsu\n",
    "threshold = skif.threshold_otsu(img_mean_min)\n",
    "print(threshold)\n",
    "#create binary movie with threshold\n",
    "movie_binary = movie_mean < (threshold)\n",
    "# further process binary image mask\n",
    "binary_proc = np.zeros(movie_binary.shape, dtype=bool)\n",
    "for i in range(0,movie_binary.shape[0]):\n",
    "    binary_proc[i,:,:] = morph(movie_binary[i,:,:],1)\n",
    "    print(str(i)+\" iteration step done\")\n",
    "# label each individual movie slice\n",
    "label_img = np.zeros(binary_proc.shape)\n",
    "for i in range(0,binary_proc.shape[0]):\n",
    "    label_img[i,:,:] = skimo.label(binary_proc[i,:,:], connectivity=1)\n",
    "label_img = label_img.astype(\"int64\")\n",
    "#add movie and label to napari viewer\n",
    "viewer.add_image(img_movie, name = 'original movie')\n",
    "viewer.add_labels(label_img, name = 'sporo label')"
   ]
  }
 ],
 "metadata": {
  "kernelspec": {
   "display_name": "Python 3 (ipykernel)",
   "language": "python",
   "name": "python3"
  },
  "language_info": {
   "codemirror_mode": {
    "name": "ipython",
    "version": 3
   },
   "file_extension": ".py",
   "mimetype": "text/x-python",
   "name": "python",
   "nbconvert_exporter": "python",
   "pygments_lexer": "ipython3",
   "version": "3.10.11"
  }
 },
 "nbformat": 4,
 "nbformat_minor": 5
}
