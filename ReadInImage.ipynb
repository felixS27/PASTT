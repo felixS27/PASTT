{
 "cells": [
  {
   "cell_type": "code",
   "execution_count": 1,
   "id": "79969c06",
   "metadata": {},
   "outputs": [],
   "source": [
    "#load libraries\n",
    "from aicsimageio import AICSImage #handles czi data"
   ]
  },
  {
   "cell_type": "code",
   "execution_count": 2,
   "id": "aa6935a6",
   "metadata": {},
   "outputs": [],
   "source": [
    "#read in one image stack\n",
    "img_movie = AICSImage(\"C:/Users/mrfel/Desktop/Python_random/Movie1.czi\")"
   ]
  },
  {
   "cell_type": "code",
   "execution_count": 11,
   "id": "50c8ef38",
   "metadata": {},
   "outputs": [
    {
     "data": {
      "text/plain": [
       "(100, 1, 1, 2048, 2048)"
      ]
     },
     "execution_count": 11,
     "metadata": {},
     "output_type": "execute_result"
    }
   ],
   "source": [
    "#print out all the information about this stack\n",
    "img_movie.data #accessing the data directly # returns 5D TCZYX numpy array \n",
    "img_movie.dims  # returns a Dimensions object # .order returns the string of the dimensions # .T/X/Y/Z/C returns the length information for each dimension\n",
    "img_movie.shape  # returns tuple of dimension sizes in TCZYX order"
   ]
  }
 ],
 "metadata": {
  "kernelspec": {
   "display_name": "Python 3 (ipykernel)",
   "language": "python",
   "name": "python3"
  },
  "language_info": {
   "codemirror_mode": {
    "name": "ipython",
    "version": 3
   },
   "file_extension": ".py",
   "mimetype": "text/x-python",
   "name": "python",
   "nbconvert_exporter": "python",
   "pygments_lexer": "ipython3",
   "version": "3.9.16"
  }
 },
 "nbformat": 4,
 "nbformat_minor": 5
}
