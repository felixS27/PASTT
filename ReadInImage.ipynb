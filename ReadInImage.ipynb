{
 "cells": [
  {
   "cell_type": "code",
   "execution_count": 1,
   "id": "79969c06",
   "metadata": {},
   "outputs": [],
   "source": [
    "#load libraries\n",
    "from aicsimageio import AICSImage #handles czi data\n",
    "#import numpy as np\n",
    "from napari.viewer import Viewer"
   ]
  },
  {
   "cell_type": "code",
   "execution_count": 2,
   "id": "aa6935a6",
   "metadata": {},
   "outputs": [],
   "source": [
    "#read in one image stack\n",
    "img_movie = AICSImage(\"C:/Users/mrfel/Desktop/Python_random/Movie1.czi\")"
   ]
  },
  {
   "cell_type": "code",
   "execution_count": 6,
   "id": "50c8ef38",
   "metadata": {},
   "outputs": [
    {
     "data": {
      "text/plain": [
       "array([[[[466, 511, 505, ..., 516, 524, 490],\n",
       "         [493, 502, 511, ..., 514, 502, 511],\n",
       "         [479, 498, 519, ..., 518, 496, 513],\n",
       "         ...,\n",
       "         [480, 487, 482, ..., 518, 523, 510],\n",
       "         [488, 493, 503, ..., 507, 504, 523],\n",
       "         [487, 474, 498, ..., 511, 528, 499]]]], dtype=uint16)"
      ]
     },
     "execution_count": 6,
     "metadata": {},
     "output_type": "execute_result"
    }
   ],
   "source": [
    "#print out all the information about this stack\n",
    "img_movie.data #accessing the data directly\n",
    "img_movie.data  # returns 5D TCZYX numpy array\n",
    "img_movie.xarray_data  # returns 5D TCZYX xarray data array backed by numpy\n",
    "img_movie.dims  # returns a Dimensions object\n",
    "img_movie.dims.order  # returns string \"TCZYX\"\n",
    "img_movie.dims.X  # returns size of X dimension\n",
    "img_movie.shape  # returns tuple of dimension sizes in TCZYX order\n",
    "img_movie.get_image_data(\"CZYX\", T=0)  # returns 4D CZYX numpy array"
   ]
  },
  {
   "cell_type": "code",
   "execution_count": null,
   "id": "179b9af5",
   "metadata": {},
   "outputs": [],
   "source": [
    "#Extract meta data"
   ]
  }
 ],
 "metadata": {
  "kernelspec": {
   "display_name": "Python 3 (ipykernel)",
   "language": "python",
   "name": "python3"
  },
  "language_info": {
   "codemirror_mode": {
    "name": "ipython",
    "version": 3
   },
   "file_extension": ".py",
   "mimetype": "text/x-python",
   "name": "python",
   "nbconvert_exporter": "python",
   "pygments_lexer": "ipython3",
   "version": "3.9.16"
  }
 },
 "nbformat": 4,
 "nbformat_minor": 5
}
