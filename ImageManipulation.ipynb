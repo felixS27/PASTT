{
 "cells": [
  {
   "cell_type": "code",
   "execution_count": 1,
   "id": "65defb0a",
   "metadata": {},
   "outputs": [],
   "source": [
    "#load libraries\n",
    "from aicsimageio import AICSImage #handles czi data\n",
    "import numpy as np\n",
    "from napari.viewer import Viewer"
   ]
  },
  {
   "cell_type": "code",
   "execution_count": 2,
   "id": "9ae71788",
   "metadata": {},
   "outputs": [],
   "source": [
    "#read in one image stack\n",
    "img_movie = AICSImage(\"C:/Users/mrfel/Desktop/Python_random/Movie1.czi\")"
   ]
  },
  {
   "cell_type": "code",
   "execution_count": 7,
   "id": "c5de906c",
   "metadata": {},
   "outputs": [
    {
     "name": "stderr",
     "output_type": "stream",
     "text": [
      "WARNING: QWindowsWindow::setGeometry: Unable to set geometry 765x783-499+24 (frame: 781x822-507-7) on QWidgetWindow/\"_QtMainWindowClassWindow\" on \"\\\\.\\DISPLAY2\". Resulting geometry: 610x625-500+17 (frame: 626x664-508-14) margins: 8, 31, 8, 8 minimum size: 374x573 MINMAXINFO maxSize=0,0 maxpos=0,0 mintrack=390,612 maxtrack=0,0)\n",
      "11-Jun-23 17:49:49 - vispy    - WARNING  - QWindowsWindow::setGeometry: Unable to set geometry 765x783-499+24 (frame: 781x822-507-7) on QWidgetWindow/\"_QtMainWindowClassWindow\" on \"\\\\.\\DISPLAY2\". Resulting geometry: 610x625-500+17 (frame: 626x664-508-14) margins: 8, 31, 8, 8 minimum size: 374x573 MINMAXINFO maxSize=0,0 maxpos=0,0 mintrack=390,612 maxtrack=0,0)\n"
     ]
    }
   ],
   "source": [
    "#create instance of napari viewer\n",
    "viewer = Viewer()"
   ]
  },
  {
   "cell_type": "code",
   "execution_count": 27,
   "id": "5fa331ef",
   "metadata": {},
   "outputs": [
    {
     "data": {
      "text/plain": [
       "<Image layer 'OriginalMovie' at 0x1793ab123d0>"
      ]
     },
     "execution_count": 27,
     "metadata": {},
     "output_type": "execute_result"
    }
   ],
   "source": [
    "#add movie to napari viewer\n",
    "viewer.add_image(img_movie.data, colormap=\"gray\", name=\"OriginalMovie\")"
   ]
  },
  {
   "cell_type": "code",
   "execution_count": 24,
   "id": "86483b17",
   "metadata": {},
   "outputs": [],
   "source": [
    "#create average and median projection of movie and add to napari\n",
    "img_median = np.median(img_movie.data, axis = 0)\n",
    "img_mean = np.mean(img_movie.data, axis = 0)\n",
    "img_sum = np.sum(img_movie.data, axis = 0)\n",
    "img_max = np.max(img_movie.data, axis = 0)"
   ]
  },
  {
   "cell_type": "code",
   "execution_count": 25,
   "id": "3400184a",
   "metadata": {},
   "outputs": [
    {
     "data": {
      "text/plain": [
       "<Image layer 'Max_Projection' at 0x17946c166a0>"
      ]
     },
     "execution_count": 25,
     "metadata": {},
     "output_type": "execute_result"
    }
   ],
   "source": [
    "viewer.add_image(img_median,colormap=\"gray\",name=\"Median_Projection\")\n",
    "viewer.add_image(img_mean,colormap=\"gray\",name=\"Mean_Projection\")\n",
    "viewer.add_image(img_sum,colormap=\"gray\",name=\"Sum_Projection\")\n",
    "viewer.add_image(img_max,colormap=\"gray\",name=\"Max_Projection\")"
   ]
  },
  {
   "cell_type": "code",
   "execution_count": 26,
   "id": "040f2fa8",
   "metadata": {},
   "outputs": [],
   "source": [
    "movie_median = img_movie.data - img_median\n",
    "movie_mean = img_movie.data - img_mean\n",
    "movie_sum = img_movie.data - img_sum\n",
    "movie_max = img_movie.data - img_max"
   ]
  },
  {
   "cell_type": "code",
   "execution_count": 28,
   "id": "4c3da9b1",
   "metadata": {},
   "outputs": [
    {
     "data": {
      "text/plain": [
       "<Image layer 'MaxMovie' at 0x1793fe931c0>"
      ]
     },
     "execution_count": 28,
     "metadata": {},
     "output_type": "execute_result"
    }
   ],
   "source": [
    "viewer.add_image(movie_median,colormap=\"gray\",name=\"MedianMovie\")\n",
    "viewer.add_image(movie_mean,colormap=\"gray\",name=\"MeanMovie\")\n",
    "viewer.add_image(movie_sum,colormap=\"gray\",name=\"SumMovie\")\n",
    "viewer.add_image(movie_max,colormap=\"gray\",name=\"MaxMovie\")\n",
    "#Subtraction of sum or max is not a good idea"
   ]
  }
 ],
 "metadata": {
  "kernelspec": {
   "display_name": "Python 3 (ipykernel)",
   "language": "python",
   "name": "python3"
  },
  "language_info": {
   "codemirror_mode": {
    "name": "ipython",
    "version": 3
   },
   "file_extension": ".py",
   "mimetype": "text/x-python",
   "name": "python",
   "nbconvert_exporter": "python",
   "pygments_lexer": "ipython3",
   "version": "3.9.16"
  }
 },
 "nbformat": 4,
 "nbformat_minor": 5
}
