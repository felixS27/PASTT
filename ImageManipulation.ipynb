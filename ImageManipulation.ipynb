{
 "cells": [
  {
   "cell_type": "code",
   "execution_count": 1,
   "id": "65defb0a",
   "metadata": {},
   "outputs": [
    {
     "name": "stderr",
     "output_type": "stream",
     "text": [
      "WARNING: QWindowsWindow::setGeometry: Unable to set geometry 1086x684-860+180 (frame: 1102x723-868+149) on QWidgetWindow/\"_QtMainWindowClassWindow\" on \"\\\\.\\DISPLAY2\". Resulting geometry: 867x573-861+173 (frame: 883x612-869+142) margins: 8, 31, 8, 8 minimum size: 374x573 MINMAXINFO maxSize=0,0 maxpos=0,0 mintrack=390,612 maxtrack=0,0)\n"
     ]
    }
   ],
   "source": [
    "#load libraries\n",
    "from aicsimageio import AICSImage #handles czi data\n",
    "import numpy as np\n",
    "from napari.viewer import Viewer\n",
    "import skimage.filters as skif\n",
    "import matplotlib.pyplot as plt\n",
    "import skimage.morphology as skimo\n",
    "import scipy.ndimage as nd\n",
    "import skimage.measure as skime\n",
    "import pandas as pd\n",
    "%matplotlib inline\n",
    "\n",
    "#create instance of napari viewer\n",
    "viewer = Viewer()"
   ]
  },
  {
   "cell_type": "code",
   "execution_count": 2,
   "id": "7e8ef333",
   "metadata": {},
   "outputs": [],
   "source": [
    "def morph(image, morph_disk_size):\n",
    "    img = nd.binary_dilation(image,structure=skimo.disk(morph_disk_size), iterations = 3)\n",
    "    img = nd.binary_erosion(img,structure=skimo.disk(morph_disk_size), iterations = 3)\n",
    "    img = skimo.binary_dilation(img,footprint=skimo.disk(morph_disk_size))\n",
    "    return img"
   ]
  },
  {
   "cell_type": "code",
   "execution_count": 3,
   "id": "78802372",
   "metadata": {
    "scrolled": true
   },
   "outputs": [
    {
     "name": "stdout",
     "output_type": "stream",
     "text": [
      "<Dimensions [T: 100, C: 1, Z: 1, Y: 2048, X: 2048]>\n",
      "(100, 1, 1, 2048, 2048)\n",
      "-62.715273437499945\n",
      "0 iteration step done\n",
      "1 iteration step done\n",
      "2 iteration step done\n",
      "3 iteration step done\n",
      "4 iteration step done\n",
      "5 iteration step done\n",
      "6 iteration step done\n",
      "7 iteration step done\n",
      "8 iteration step done\n",
      "9 iteration step done\n",
      "10 iteration step done\n",
      "11 iteration step done\n",
      "12 iteration step done\n",
      "13 iteration step done\n",
      "14 iteration step done\n",
      "15 iteration step done\n",
      "16 iteration step done\n",
      "17 iteration step done\n",
      "18 iteration step done\n",
      "19 iteration step done\n",
      "20 iteration step done\n",
      "21 iteration step done\n",
      "22 iteration step done\n",
      "23 iteration step done\n",
      "24 iteration step done\n",
      "25 iteration step done\n",
      "26 iteration step done\n",
      "27 iteration step done\n",
      "28 iteration step done\n",
      "29 iteration step done\n",
      "30 iteration step done\n",
      "31 iteration step done\n",
      "32 iteration step done\n",
      "33 iteration step done\n",
      "34 iteration step done\n",
      "35 iteration step done\n",
      "36 iteration step done\n",
      "37 iteration step done\n",
      "38 iteration step done\n",
      "39 iteration step done\n",
      "40 iteration step done\n",
      "41 iteration step done\n",
      "42 iteration step done\n",
      "43 iteration step done\n",
      "44 iteration step done\n",
      "45 iteration step done\n",
      "46 iteration step done\n",
      "47 iteration step done\n",
      "48 iteration step done\n",
      "49 iteration step done\n",
      "50 iteration step done\n",
      "51 iteration step done\n",
      "52 iteration step done\n",
      "53 iteration step done\n",
      "54 iteration step done\n",
      "55 iteration step done\n",
      "56 iteration step done\n",
      "57 iteration step done\n",
      "58 iteration step done\n",
      "59 iteration step done\n",
      "60 iteration step done\n",
      "61 iteration step done\n",
      "62 iteration step done\n",
      "63 iteration step done\n",
      "64 iteration step done\n",
      "65 iteration step done\n",
      "66 iteration step done\n",
      "67 iteration step done\n",
      "68 iteration step done\n",
      "69 iteration step done\n",
      "70 iteration step done\n",
      "71 iteration step done\n",
      "72 iteration step done\n",
      "73 iteration step done\n",
      "74 iteration step done\n",
      "75 iteration step done\n",
      "76 iteration step done\n",
      "77 iteration step done\n",
      "78 iteration step done\n",
      "79 iteration step done\n",
      "80 iteration step done\n",
      "81 iteration step done\n",
      "82 iteration step done\n",
      "83 iteration step done\n",
      "84 iteration step done\n",
      "85 iteration step done\n",
      "86 iteration step done\n",
      "87 iteration step done\n",
      "88 iteration step done\n",
      "89 iteration step done\n",
      "90 iteration step done\n",
      "91 iteration step done\n",
      "92 iteration step done\n",
      "93 iteration step done\n",
      "94 iteration step done\n",
      "95 iteration step done\n",
      "96 iteration step done\n",
      "97 iteration step done\n",
      "98 iteration step done\n",
      "99 iteration step done\n"
     ]
    }
   ],
   "source": [
    "#read in one image stack\n",
    "img_movie = AICSImage(\"C:/Users/mrfel/Desktop/Python_random/Movie2.czi\")\n",
    "print(img_movie.dims)\n",
    "print(img_movie.shape)\n",
    "#reduce dimensionality of the image to only T, Y and X\n",
    "img_movie = img_movie.get_image_data(\"TYX\")\n",
    "# img_movie = img_movie.data\n",
    "#create the mean projection of the movie\n",
    "img_mean = np.mean(img_movie.data, axis = 0)\n",
    "#subtract mean projection of the movie\n",
    "movie_mean = img_movie.data - img_mean\n",
    "#create min projection of the previous processed movie\n",
    "img_mean_min = np.min(movie_mean, axis = 0)\n",
    "#calculate the threshold of the min projeciton with otsu\n",
    "threshold = skif.threshold_otsu(img_mean_min)\n",
    "print(threshold)\n",
    "#create binary movie with threshold\n",
    "movie_binary = movie_mean < (threshold)\n",
    "morph_disk_size = 1\n",
    "binary_proc = np.zeros(movie_binary.shape, dtype=bool)\n",
    "for i in range(0,movie_binary.shape[0]):\n",
    "    binary_proc[i,:,:] = morph(movie_binary[i,:,:],morph_disk_size)\n",
    "    print(str(i)+\" iteration step done\")\n",
    "label_img = np.zeros(binary_proc.shape)\n",
    "for i in range(0,binary_proc.shape[0]):\n",
    "    label_img[i,:,:] = skimo.label(binary_proc[i,:,:], connectivity=1)\n",
    "label_img = label_img.astype(\"int64\")"
   ]
  },
  {
   "cell_type": "code",
   "execution_count": 4,
   "id": "afbb57af",
   "metadata": {},
   "outputs": [
    {
     "data": {
      "image/png": "[encoded data removed]",
      "text/plain": [
       "<Figure size 640x480 with 1 Axes>"
      ]
     },
     "metadata": {},
     "output_type": "display_data"
    }
   ],
   "source": [
    "plt.hist(img_mean_min.ravel(), bins = 100)\n",
    "plt.vlines(x=threshold, ymin=0, ymax=600000, colors = 'red')\n",
    "plt.show()"
   ]
  },
  {
   "cell_type": "code",
   "execution_count": 5,
   "id": "d53f664f",
   "metadata": {},
   "outputs": [
    {
     "data": {
      "text/plain": [
       "<Labels layer 'sporo label' at 0x23590896bc0>"
      ]
     },
     "execution_count": 5,
     "metadata": {},
     "output_type": "execute_result"
    }
   ],
   "source": [
    "#add image and label\n",
    "viewer.add_image(img_movie, name = 'original movie')\n",
    "viewer.add_image(binary_proc, name = 'binary')\n",
    "viewer.add_labels(label_img, name = 'sporo label')"
   ]
  },
  {
   "cell_type": "code",
   "execution_count": 6,
   "id": "807d2dcb",
   "metadata": {
    "scrolled": true
   },
   "outputs": [
    {
     "name": "stdout",
     "output_type": "stream",
     "text": [
      "0 iteration step done\n",
      "1 iteration step done\n",
      "2 iteration step done\n",
      "3 iteration step done\n",
      "4 iteration step done\n",
      "5 iteration step done\n",
      "6 iteration step done\n",
      "7 iteration step done\n",
      "8 iteration step done\n",
      "9 iteration step done\n",
      "10 iteration step done\n",
      "11 iteration step done\n",
      "12 iteration step done\n",
      "13 iteration step done\n",
      "14 iteration step done\n",
      "15 iteration step done\n",
      "16 iteration step done\n",
      "17 iteration step done\n",
      "18 iteration step done\n",
      "19 iteration step done\n",
      "20 iteration step done\n",
      "21 iteration step done\n",
      "22 iteration step done\n",
      "23 iteration step done\n",
      "24 iteration step done\n",
      "25 iteration step done\n",
      "26 iteration step done\n",
      "27 iteration step done\n",
      "28 iteration step done\n",
      "29 iteration step done\n",
      "30 iteration step done\n",
      "31 iteration step done\n",
      "32 iteration step done\n",
      "33 iteration step done\n",
      "34 iteration step done\n",
      "35 iteration step done\n",
      "36 iteration step done\n",
      "37 iteration step done\n",
      "38 iteration step done\n",
      "39 iteration step done\n",
      "40 iteration step done\n",
      "41 iteration step done\n",
      "42 iteration step done\n",
      "43 iteration step done\n",
      "44 iteration step done\n",
      "45 iteration step done\n",
      "46 iteration step done\n",
      "47 iteration step done\n",
      "48 iteration step done\n",
      "49 iteration step done\n",
      "50 iteration step done\n",
      "51 iteration step done\n",
      "52 iteration step done\n",
      "53 iteration step done\n",
      "54 iteration step done\n",
      "55 iteration step done\n",
      "56 iteration step done\n",
      "57 iteration step done\n",
      "58 iteration step done\n",
      "59 iteration step done\n",
      "60 iteration step done\n",
      "61 iteration step done\n",
      "62 iteration step done\n",
      "63 iteration step done\n",
      "64 iteration step done\n",
      "65 iteration step done\n",
      "66 iteration step done\n",
      "67 iteration step done\n",
      "68 iteration step done\n",
      "69 iteration step done\n",
      "70 iteration step done\n",
      "71 iteration step done\n",
      "72 iteration step done\n",
      "73 iteration step done\n",
      "74 iteration step done\n",
      "75 iteration step done\n",
      "76 iteration step done\n",
      "77 iteration step done\n",
      "78 iteration step done\n",
      "79 iteration step done\n",
      "80 iteration step done\n",
      "81 iteration step done\n",
      "82 iteration step done\n",
      "83 iteration step done\n",
      "84 iteration step done\n",
      "85 iteration step done\n",
      "86 iteration step done\n",
      "87 iteration step done\n",
      "88 iteration step done\n",
      "89 iteration step done\n",
      "90 iteration step done\n",
      "91 iteration step done\n",
      "92 iteration step done\n",
      "93 iteration step done\n",
      "94 iteration step done\n",
      "95 iteration step done\n",
      "96 iteration step done\n",
      "97 iteration step done\n",
      "98 iteration step done\n",
      "99 iteration step done\n"
     ]
    }
   ],
   "source": [
    "#try different area , maybe 50 or just check the histogram again\n",
    "binary_proc2 = np.zeros(binary_proc.shape, dtype=bool)\n",
    "for i in range(0,binary_proc.shape[0]):\n",
    "    binary_proc2[i,:,:] = skimo.area_opening(binary_proc[i,:,:], 10, connectivity = 1)\n",
    "    print(str(i)+\" iteration step done\")"
   ]
  },
  {
   "cell_type": "code",
   "execution_count": 7,
   "id": "a6f58db2",
   "metadata": {},
   "outputs": [],
   "source": [
    "label_img2 = np.zeros(binary_proc2.shape)\n",
    "for i in range(0,binary_proc2.shape[0]):\n",
    "    label_img2[i,:,:] = skimo.label(binary_proc2[i,:,:], connectivity=1)\n",
    "label_img2 = label_img2.astype(\"int64\")"
   ]
  },
  {
   "cell_type": "code",
   "execution_count": 8,
   "id": "2de387ed",
   "metadata": {},
   "outputs": [
    {
     "data": {
      "text/plain": [
       "<Labels layer 'sporo label2' at 0x23598a4be20>"
      ]
     },
     "execution_count": 8,
     "metadata": {},
     "output_type": "execute_result"
    }
   ],
   "source": [
    "viewer.add_image(binary_proc2, name = 'binary2')\n",
    "viewer.add_labels(label_img2, name = 'sporo label2')"
   ]
  },
  {
   "cell_type": "code",
   "execution_count": null,
   "id": "38fc8856",
   "metadata": {
    "scrolled": true
   },
   "outputs": [],
   "source": [
    "for t in range(0,label_img.shape[0]):\n",
    "    region_props = skime.regionprops_table(label_img[t,:,:], \n",
    "                                            properties = ['label','axis_major_length','axis_minor_length'])\n",
    "    print(\"Region Props done!\")\n",
    "    region_props = pd.DataFrame(region_props)\n",
    "    region_props['AR'] = (region_props['axis_major_length']/region_props['axis_minor_length'])\n",
    "    idx = np.asarray(region_props.loc[region_props['AR'] < 2.5,['label']])\n",
    "    print(\"Indexing done!\")\n",
    "    for y in range(0,label_img.shape[1]):\n",
    "        if np.max(label_img[t,y,:]) > 0:\n",
    "            for e in np.unique(label_img[t,y,:]):\n",
    "                if e in idx:\n",
    "                    for x in range(0,label_img.shape[2]):\n",
    "                        if label_img[t,y,x] in idx:\n",
    "                            label_img[t,y,x] = 0\n",
    "    print(t)"
   ]
  },
  {
   "cell_type": "code",
   "execution_count": null,
   "id": "346a4ad5",
   "metadata": {},
   "outputs": [],
   "source": [
    "a = np.arange(100)\n",
    "np.unique(label_img[0,2,:])\n",
    "for e in np.unique(label_img[0,80,:]):\n",
    "    if e in idx:\n",
    "        print(e)"
   ]
  },
  {
   "cell_type": "code",
   "execution_count": null,
   "id": "9efb71f4",
   "metadata": {},
   "outputs": [],
   "source": [
    "props = skime.regionprops_table(label_img[80,:,:], properties=['label','area','axis_major_length','axis_minor_length'])\n",
    "df = pd.DataFrame(props)\n",
    "df['AR'] = (df['axis_major_length']/df['axis_minor_length'])\n",
    "df"
   ]
  },
  {
   "cell_type": "code",
   "execution_count": null,
   "id": "99e652ef",
   "metadata": {
    "scrolled": false
   },
   "outputs": [],
   "source": [
    "df[['area','solidity','eccentricity','AR']].hist(bins = 100)"
   ]
  },
  {
   "cell_type": "code",
   "execution_count": null,
   "id": "2a1123b6",
   "metadata": {},
   "outputs": [],
   "source": [
    "df2 = df.loc[(df['AR'] > 2.5),'area']\n",
    "df2.hist(bins = 100)"
   ]
  },
  {
   "cell_type": "code",
   "execution_count": null,
   "id": "4a4adc1f",
   "metadata": {},
   "outputs": [],
   "source": [
    "df2.min()"
   ]
  },
  {
   "cell_type": "code",
   "execution_count": null,
   "id": "70b0a8d3",
   "metadata": {},
   "outputs": [],
   "source": [
    "l1 = label_img[0,:,:]"
   ]
  },
  {
   "cell_type": "code",
   "execution_count": null,
   "id": "ed053536",
   "metadata": {},
   "outputs": [],
   "source": [
    "for i in range(0,l1.shape[0]):\n",
    "    if np.max(l1[i,:]) > 0:\n",
    "        for j in range(0,l1.shape[1]):\n",
    "            if l1[i,j] in idx:\n",
    "                print(str(l1[i,j])+\" changed to 0\")\n",
    "                l1[i,j] = 0"
   ]
  },
  {
   "cell_type": "code",
   "execution_count": null,
   "id": "b1937833",
   "metadata": {},
   "outputs": [],
   "source": [
    "# viewer.add_labels(label_img[0,:,:], name = \"original label\")\n",
    "viewer.add_labels(l1, name = \"filtered label\")"
   ]
  },
  {
   "cell_type": "code",
   "execution_count": null,
   "id": "d96ae5d6",
   "metadata": {},
   "outputs": [],
   "source": []
  },
  {
   "cell_type": "code",
   "execution_count": null,
   "id": "8d7c9204",
   "metadata": {},
   "outputs": [],
   "source": [
    "prop = skime.regionprops_table(label_img1, properties=['label','area','eccentricity'])"
   ]
  },
  {
   "cell_type": "code",
   "execution_count": null,
   "id": "4c597562",
   "metadata": {},
   "outputs": [],
   "source": [
    "pd.DataFrame(prop)"
   ]
  },
  {
   "cell_type": "code",
   "execution_count": null,
   "id": "22259ed5",
   "metadata": {},
   "outputs": [],
   "source": [
    "morph_disk_size = 1\n",
    "dilated1 = skim.binary_dilation(movie_binary[0,:,:],footprint=skim.disk(morph_disk_size))\n",
    "opend = skim.binary_opening(movie_binary[0,:,:],footprint=skim.disk(morph_disk_size))\n",
    "opend_dilated = skim.binary_dilation(opend,footprint=skim.disk(morph_disk_size))\n",
    "closed = skim.binary_closing(movie_binary[0,:,:],footprint=skim.disk(morph_disk_size))\n",
    "closed_dilated = skim.binary_dilation(closed,footprint=skim.disk(morph_disk_size))"
   ]
  },
  {
   "cell_type": "code",
   "execution_count": null,
   "id": "85699727",
   "metadata": {},
   "outputs": [],
   "source": [
    "morph_disk_size = 1\n",
    "a = nd.binary_dilation(movie_binary[0,:,:],structure=skim.disk(morph_disk_size), iterations = 3)\n",
    "a = nd.binary_erosion(a,structure=skim.disk(morph_disk_size), iterations = 3)\n",
    "a = skim.binary_dilation(a,footprint=skim.disk(morph_disk_size))\n",
    "viewer.add_image(a, opacity = 0.7, colormap = 'magenta')"
   ]
  },
  {
   "cell_type": "code",
   "execution_count": null,
   "id": "0effe10f",
   "metadata": {},
   "outputs": [],
   "source": [
    "movie_binary.shape[0]"
   ]
  },
  {
   "cell_type": "code",
   "execution_count": null,
   "id": "1b3723b5",
   "metadata": {},
   "outputs": [],
   "source": [
    "viewer.add_image(movie_binary[0,:,:], opacity = 1, colormap = 'cyan', name = 'sporo mask')\n",
    "viewer.add_image(dilated1, opacity = 0.7, colormap = 'magenta', name = 'sporo mask 1x dilated')\n",
    "viewer.add_image(opend, opacity = 0.7, colormap = 'magenta', name = 'sporo mask 1x opened')\n",
    "viewer.add_image(opend_dilated, opacity = 0.7, colormap = 'magenta', name = 'sporo mask 1x opend+dilated')\n",
    "viewer.add_image(closed, opacity = 0.7, colormap = 'magenta', name = 'sporo mask 1x closed')\n",
    "viewer.add_image(closed_dilated, opacity = 0.7, colormap = 'magenta', name = 'sporo mask 1x closed+dilated')"
   ]
  },
  {
   "cell_type": "code",
   "execution_count": null,
   "id": "9ae71788",
   "metadata": {},
   "outputs": [],
   "source": [
    "#read in one image stack\n",
    "img_movie = AICSImage(\"C:/Users/mrfel/Desktop/Python_random/Movie1.czi\")\n",
    "print(img_movie.dims)\n",
    "print(img_movie.shape)"
   ]
  },
  {
   "cell_type": "code",
   "execution_count": null,
   "id": "c5de906c",
   "metadata": {},
   "outputs": [],
   "source": [
    "#create instance of napari viewer\n",
    "viewer = Viewer()"
   ]
  },
  {
   "cell_type": "code",
   "execution_count": null,
   "id": "5fa331ef",
   "metadata": {},
   "outputs": [],
   "source": [
    "#add movie to napari viewer\n",
    "viewer.add_image(img_movie.data, colormap=\"gray\", name=\"OriginalMovie\")"
   ]
  },
  {
   "cell_type": "code",
   "execution_count": null,
   "id": "86483b17",
   "metadata": {},
   "outputs": [],
   "source": [
    "#create average, median, sum and max projection of movie\n",
    "img_median = np.median(img_movie.data, axis = 0)\n",
    "img_mean = np.mean(img_movie.data, axis = 0)\n",
    "img_sum = np.sum(img_movie.data, axis = 0)\n",
    "img_max = np.max(img_movie.data, axis = 0)"
   ]
  },
  {
   "cell_type": "code",
   "execution_count": null,
   "id": "3400184a",
   "metadata": {},
   "outputs": [],
   "source": [
    "#add projections to napari\n",
    "viewer.add_image(img_median,colormap=\"gray\",name=\"Median_Projection\")\n",
    "viewer.add_image(img_mean,colormap=\"gray\",name=\"Mean_Projection\")\n",
    "viewer.add_image(img_sum,colormap=\"gray\",name=\"Sum_Projection\")\n",
    "viewer.add_image(img_max,colormap=\"gray\",name=\"Max_Projection\")"
   ]
  },
  {
   "cell_type": "code",
   "execution_count": null,
   "id": "040f2fa8",
   "metadata": {},
   "outputs": [],
   "source": [
    "#subtract projections from original image\n",
    "movie_median = img_movie.data - img_median\n",
    "movie_mean = img_movie.data - img_mean\n",
    "movie_sum = img_movie.data - img_sum\n",
    "movie_max = img_movie.data - img_max"
   ]
  },
  {
   "cell_type": "code",
   "execution_count": null,
   "id": "4c3da9b1",
   "metadata": {},
   "outputs": [],
   "source": [
    "#add new images to napari\n",
    "viewer.add_image(movie_median,colormap=\"gray\",name=\"MedianMovie\")\n",
    "viewer.add_image(movie_mean,colormap=\"gray\",name=\"MeanMovie\")\n",
    "viewer.add_image(movie_sum,colormap=\"gray\",name=\"SumMovie\")\n",
    "viewer.add_image(movie_max,colormap=\"gray\",name=\"MaxMovie\")"
   ]
  },
  {
   "cell_type": "markdown",
   "id": "c6049148",
   "metadata": {},
   "source": [
    "To sum up: subtracting median and mean projection from the original movie shows good removing of background from the original movie and highlights the sporozoits.\n",
    "Subtracting max projection and sum projection from the original movie produces either a completely dark or brigt image."
   ]
  },
  {
   "cell_type": "code",
   "execution_count": null,
   "id": "1fb84239",
   "metadata": {},
   "outputs": [],
   "source": [
    "import skimage.filters as skif"
   ]
  },
  {
   "cell_type": "code",
   "execution_count": null,
   "id": "c39c9411",
   "metadata": {},
   "outputs": [],
   "source": [
    "skif.threshold_otsu(movie_median)"
   ]
  },
  {
   "cell_type": "code",
   "execution_count": null,
   "id": "8b4144f2",
   "metadata": {},
   "outputs": [],
   "source": [
    "skif.threshold_otsu(movie_median[0,0,0,:,:])"
   ]
  },
  {
   "cell_type": "code",
   "execution_count": null,
   "id": "613238a6",
   "metadata": {
    "scrolled": false
   },
   "outputs": [],
   "source": [
    "plt.hist(movie_median[0,0,0,:,:].ravel(), bins = 100)\n",
    "plt.show()"
   ]
  },
  {
   "cell_type": "code",
   "execution_count": null,
   "id": "1a5a734e",
   "metadata": {},
   "outputs": [],
   "source": [
    "print(skif.threshold_otsu(movie_median[0,0,0,:,:]))\n",
    "print(skif.threshold_multiotsu(movie_median[0,0,0,:,:]))\n",
    "img_mean_min = np.min(movie_mean, axis = 0)\n",
    "print(skif.threshold_otsu(img_mean_min))\n",
    "print(skif.threshold_multiotsu(img_mean_min))\n",
    "viewer.add_image(img_mean_min)"
   ]
  },
  {
   "cell_type": "code",
   "execution_count": null,
   "id": "117204a3",
   "metadata": {},
   "outputs": [],
   "source": [
    "#create average, median, sum and max projection of movie\n",
    "img = img_mean_min < -58\n",
    "viewer.add_image(img)"
   ]
  },
  {
   "cell_type": "code",
   "execution_count": null,
   "id": "36ae1f18",
   "metadata": {},
   "outputs": [],
   "source": [
    "movie = movie_mean < -58\n",
    "viewer.add_image(movie)"
   ]
  },
  {
   "cell_type": "code",
   "execution_count": null,
   "id": "aace91e3",
   "metadata": {},
   "outputs": [],
   "source": [
    "import skimage.morphology as skim"
   ]
  },
  {
   "cell_type": "code",
   "execution_count": null,
   "id": "c2150a44",
   "metadata": {},
   "outputs": [],
   "source": [
    "disk_size = 10\n",
    "disk = skim.disk(disk_size)\n",
    "mov_closed = skim.binary_closing(movie)\n",
    "viewer.add_image(mov_closed)"
   ]
  },
  {
   "cell_type": "code",
   "execution_count": null,
   "id": "17964af6",
   "metadata": {},
   "outputs": [],
   "source": [
    "label = skim.label(mov_closed)\n",
    "viewer.add_labels(label)"
   ]
  }
 ],
 "metadata": {
  "kernelspec": {
   "display_name": "Python 3 (ipykernel)",
   "language": "python",
   "name": "python3"
  },
  "language_info": {
   "codemirror_mode": {
    "name": "ipython",
    "version": 3
   },
   "file_extension": ".py",
   "mimetype": "text/x-python",
   "name": "python",
   "nbconvert_exporter": "python",
   "pygments_lexer": "ipython3",
   "version": "3.10.11"
  }
 },
 "nbformat": 4,
 "nbformat_minor": 5
}
