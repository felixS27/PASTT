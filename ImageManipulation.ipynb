{
 "cells": [
  {
   "cell_type": "code",
   "execution_count": 2,
   "id": "65defb0a",
   "metadata": {},
   "outputs": [],
   "source": [
    "#load libraries\n",
    "from aicsimageio import AICSImage #handles czi data\n",
    "import numpy as np\n",
    "from napari.viewer import Viewer\n",
    "import matplotlib.pyplot as plt\n",
    "%matplotlib inline"
   ]
  },
  {
   "cell_type": "code",
   "execution_count": 3,
   "id": "9ae71788",
   "metadata": {},
   "outputs": [
    {
     "name": "stdout",
     "output_type": "stream",
     "text": [
      "<Dimensions [T: 100, C: 1, Z: 1, Y: 2048, X: 2048]>\n",
      "(100, 1, 1, 2048, 2048)\n"
     ]
    }
   ],
   "source": [
    "#read in one image stack\n",
    "img_movie = AICSImage(\"C:/Users/mrfel/Desktop/Python_random/Movie1.czi\")\n",
    "print(img_movie.dims)\n",
    "print(img_movie.shape)"
   ]
  },
  {
   "cell_type": "code",
   "execution_count": 4,
   "id": "c5de906c",
   "metadata": {},
   "outputs": [
    {
     "name": "stderr",
     "output_type": "stream",
     "text": [
      "WARNING: QWindowsWindow::setGeometry: Unable to set geometry 1086x684-589+106 (frame: 1102x723-597+75) on QWidgetWindow/\"_QtMainWindowClassWindow\" on \"\\\\.\\DISPLAY2\". Resulting geometry: 867x573-590+99 (frame: 883x612-598+68) margins: 8, 31, 8, 8 minimum size: 374x573 MINMAXINFO maxSize=0,0 maxpos=0,0 mintrack=390,612 maxtrack=0,0)\n"
     ]
    }
   ],
   "source": [
    "#create instance of napari viewer\n",
    "viewer = Viewer()"
   ]
  },
  {
   "cell_type": "code",
   "execution_count": 19,
   "id": "5fa331ef",
   "metadata": {},
   "outputs": [
    {
     "data": {
      "text/plain": [
       "<Image layer 'OriginalMovie' at 0x192d9039240>"
      ]
     },
     "execution_count": 19,
     "metadata": {},
     "output_type": "execute_result"
    }
   ],
   "source": [
    "#add movie to napari viewer\n",
    "viewer.add_image(img_movie.data, colormap=\"gray\", name=\"OriginalMovie\")"
   ]
  },
  {
   "cell_type": "code",
   "execution_count": 6,
   "id": "86483b17",
   "metadata": {},
   "outputs": [],
   "source": [
    "#create average, median, sum and max projection of movie\n",
    "img_median = np.median(img_movie.data, axis = 0)\n",
    "img_mean = np.mean(img_movie.data, axis = 0)\n",
    "img_sum = np.sum(img_movie.data, axis = 0)\n",
    "img_max = np.max(img_movie.data, axis = 0)"
   ]
  },
  {
   "cell_type": "code",
   "execution_count": 7,
   "id": "3400184a",
   "metadata": {},
   "outputs": [
    {
     "data": {
      "text/plain": [
       "<Image layer 'Max_Projection' at 0x192e203b5b0>"
      ]
     },
     "execution_count": 7,
     "metadata": {},
     "output_type": "execute_result"
    }
   ],
   "source": [
    "#add projections to napari\n",
    "viewer.add_image(img_median,colormap=\"gray\",name=\"Median_Projection\")\n",
    "viewer.add_image(img_mean,colormap=\"gray\",name=\"Mean_Projection\")\n",
    "viewer.add_image(img_sum,colormap=\"gray\",name=\"Sum_Projection\")\n",
    "viewer.add_image(img_max,colormap=\"gray\",name=\"Max_Projection\")"
   ]
  },
  {
   "cell_type": "code",
   "execution_count": 8,
   "id": "040f2fa8",
   "metadata": {},
   "outputs": [],
   "source": [
    "#subtract projections from original image\n",
    "movie_median = img_movie.data - img_median\n",
    "movie_mean = img_movie.data - img_mean\n",
    "movie_sum = img_movie.data - img_sum\n",
    "movie_max = img_movie.data - img_max"
   ]
  },
  {
   "cell_type": "code",
   "execution_count": 20,
   "id": "4c3da9b1",
   "metadata": {},
   "outputs": [
    {
     "data": {
      "text/plain": [
       "<Image layer 'MaxMovie' at 0x192ed6a4a30>"
      ]
     },
     "execution_count": 20,
     "metadata": {},
     "output_type": "execute_result"
    }
   ],
   "source": [
    "#add new images to napari\n",
    "viewer.add_image(movie_median,colormap=\"gray\",name=\"MedianMovie\")\n",
    "viewer.add_image(movie_mean,colormap=\"gray\",name=\"MeanMovie\")\n",
    "viewer.add_image(movie_sum,colormap=\"gray\",name=\"SumMovie\")\n",
    "viewer.add_image(movie_max,colormap=\"gray\",name=\"MaxMovie\")"
   ]
  },
  {
   "cell_type": "markdown",
   "id": "c6049148",
   "metadata": {},
   "source": [
    "To sum up: subtracting median and mean projection from the original movie shows good removing of background from the original movie and highlights the sporozoits.\n",
    "Subtracting max projection and sum projection from the original movie produces either a completely dark or brigt image."
   ]
  },
  {
   "cell_type": "code",
   "execution_count": 10,
   "id": "1fb84239",
   "metadata": {},
   "outputs": [],
   "source": [
    "import skimage.filters as skif"
   ]
  },
  {
   "cell_type": "code",
   "execution_count": null,
   "id": "c39c9411",
   "metadata": {},
   "outputs": [],
   "source": [
    "skif.threshold_otsu(movie_median)"
   ]
  },
  {
   "cell_type": "code",
   "execution_count": null,
   "id": "8b4144f2",
   "metadata": {},
   "outputs": [],
   "source": [
    "skif.threshold_otsu(movie_median[0,0,0,:,:])"
   ]
  },
  {
   "cell_type": "code",
   "execution_count": 21,
   "id": "1a5a734e",
   "metadata": {},
   "outputs": [
    {
     "name": "stdout",
     "output_type": "stream",
     "text": [
      "-5.2705078125\n",
      "[-28.94238281   0.64746094]\n",
      "-58.66298828125002\n",
      "[-113.46779297  -54.21935547]\n"
     ]
    },
    {
     "data": {
      "text/plain": [
       "<Image layer 'img_mean_min' at 0x192d8fd4f70>"
      ]
     },
     "execution_count": 21,
     "metadata": {},
     "output_type": "execute_result"
    }
   ],
   "source": [
    "print(skif.threshold_otsu(movie_median[0,0,0,:,:]))\n",
    "print(skif.threshold_multiotsu(movie_median[0,0,0,:,:]))\n",
    "img_mean_min = np.min(movie_mean, axis = 0)\n",
    "print(skif.threshold_otsu(img_mean_min))\n",
    "print(skif.threshold_multiotsu(img_mean_min))\n",
    "viewer.add_image(img_mean_min)"
   ]
  },
  {
   "cell_type": "code",
   "execution_count": 22,
   "id": "117204a3",
   "metadata": {},
   "outputs": [
    {
     "data": {
      "text/plain": [
       "<Image layer 'img' at 0x192d928ac20>"
      ]
     },
     "execution_count": 22,
     "metadata": {},
     "output_type": "execute_result"
    }
   ],
   "source": [
    "#create average, median, sum and max projection of movie\n",
    "img = img_mean_min < -58\n",
    "viewer.add_image(img)"
   ]
  },
  {
   "cell_type": "code",
   "execution_count": 26,
   "id": "36ae1f18",
   "metadata": {},
   "outputs": [
    {
     "data": {
      "text/plain": [
       "<Image layer 'movie' at 0x192d918d210>"
      ]
     },
     "execution_count": 26,
     "metadata": {},
     "output_type": "execute_result"
    }
   ],
   "source": [
    "movie = movie_mean < -58\n",
    "viewer.add_image(movie)"
   ]
  },
  {
   "cell_type": "code",
   "execution_count": 25,
   "id": "aace91e3",
   "metadata": {},
   "outputs": [],
   "source": [
    "import skimage.morphology as skim"
   ]
  },
  {
   "cell_type": "code",
   "execution_count": 33,
   "id": "c2150a44",
   "metadata": {},
   "outputs": [
    {
     "data": {
      "text/plain": [
       "<Image layer 'mov_closed' at 0x192d8a47640>"
      ]
     },
     "execution_count": 33,
     "metadata": {},
     "output_type": "execute_result"
    }
   ],
   "source": [
    "disk_size = 10\n",
    "disk = skim.disk(disk_size)\n",
    "mov_closed = skim.binary_closing(movie)\n",
    "viewer.add_image(mov_closed)"
   ]
  },
  {
   "cell_type": "code",
   "execution_count": 40,
   "id": "17964af6",
   "metadata": {},
   "outputs": [
    {
     "data": {
      "text/plain": [
       "<Labels layer 'label' at 0x192e4b81840>"
      ]
     },
     "execution_count": 40,
     "metadata": {},
     "output_type": "execute_result"
    }
   ],
   "source": [
    "label = skim.label(mov_closed)\n",
    "viewer.add_labels(label)"
   ]
  }
 ],
 "metadata": {
  "kernelspec": {
   "display_name": "Python 3 (ipykernel)",
   "language": "python",
   "name": "python3"
  },
  "language_info": {
   "codemirror_mode": {
    "name": "ipython",
    "version": 3
   },
   "file_extension": ".py",
   "mimetype": "text/x-python",
   "name": "python",
   "nbconvert_exporter": "python",
   "pygments_lexer": "ipython3",
   "version": "3.10.11"
  }
 },
 "nbformat": 4,
 "nbformat_minor": 5
}
